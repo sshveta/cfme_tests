{
 "cells": [
  {
   "cell_type": "code",
   "execution_count": 2,
   "metadata": {
    "collapsed": false,
    "deletable": true,
    "editable": true
   },
   "outputs": [
    {
     "name": "stdout",
     "output_type": "stream",
     "text": [
      "vm name: test-tl-x0dr\n"
     ]
    }
   ],
   "source": [
    "# adding provider and the rest of staff necessary for working with timelines\n",
    "from utils.generators import random_vm_name\n",
    "from utils.providers import get_crud\n",
    "from cfme.infrastructure.virtual_machines import Vm\n",
    "\n",
    "prov = get_crud('vsphere6-nested')\n",
    "if not prov.exists:\n",
    "    prov.create()\n",
    "\n",
    "vm = Vm(name=random_vm_name(\"tl\", max_length=16), provider=prov)\n",
    "print(\"vm name: {}\".format(vm.name))\n",
    "if vm.exists:\n",
    "    vm.delete_from_provider()\n",
    "vm.create_on_provider()"
   ]
  },
  {
   "cell_type": "code",
   "execution_count": 3,
   "metadata": {
    "collapsed": false,
    "deletable": true,
    "editable": true
   },
   "outputs": [],
   "source": [
    "# generating some power activity management events\n",
    "prov.mgmt.wait_vm_running(vm.name)\n",
    "prov.mgmt.stop_vm(vm.name)\n",
    "prov.mgmt.wait_vm_stopped(vm.name)\n",
    "prov.mgmt.start_vm(vm.name)\n",
    "prov.mgmt.wait_vm_running(vm.name)"
   ]
  },
  {
   "cell_type": "code",
   "execution_count": 4,
   "metadata": {
    "collapsed": false,
    "deletable": true,
    "editable": true
   },
   "outputs": [
    {
     "name": "stdout",
     "output_type": "stream",
     "text": [
      "(u'test-tl-x0dr', u'VmPoweredOnEvent', u'VC')\n",
      "(u'test-tl-x0dr', u'VmPoweredOffEvent', u'VC')\n",
      "(u'test-tl-x0dr', u'VmPoweredOnEvent', u'VC')\n"
     ]
    }
   ],
   "source": [
    "# timelines filter setup and obtaining all displayed power activity events\n",
    "from utils.appliance.implementations.ui import navigate_to\n",
    "tl_view  = navigate_to(vm, 'Timelines')\n",
    "tl_view.filter.event_type.select_by_visible_text('Management Events')\n",
    "tl_view.filter.event_category.fill('Power Activity')\n",
    "tl_view.filter.time_position.select_by_visible_text('centered')\n",
    "tl_view.filter.apply.click()\n",
    "\n",
    "all_vm_events = tl_view.chart.get_events('Power Activity')\n",
    "# checking which events we have there\n",
    "for evt in all_vm_events:\n",
    "    print(evt.source_vm, evt.event_type, evt.event_source)"
   ]
  },
  {
   "cell_type": "code",
   "execution_count": null,
   "metadata": {
    "collapsed": false,
    "deletable": true,
    "editable": true
   },
   "outputs": [],
   "source": []
  },
  {
   "cell_type": "code",
   "execution_count": 6,
   "metadata": {
    "collapsed": false,
    "deletable": true,
    "editable": true
   },
   "outputs": [
    {
     "name": "stdout",
     "output_type": "stream",
     "text": [
      "(u'test-tl-x0dr', u'VmPoweredOnEvent', u'VC')\n",
      "(u'test-tl-x0dr', u'VmPoweredOffEvent', u'VC')\n",
      "(u'test-tl-x0dr', u'VmPoweredOnEvent', u'VC')\n"
     ]
    }
   ],
   "source": [
    "# obtaining the same vm events from provider entity\n",
    "tl_view  = navigate_to(prov, 'Timelines')\n",
    "# Management Events and Power Activity are already chosen by default\n",
    "tl_view.filter.time_position.select_by_visible_text('centered')\n",
    "tl_view.filter.apply.click()\n",
    "\n",
    "prov_events = tl_view.chart.get_events()\n",
    "vm_related_events = [evt for evt in prov_events if hasattr(evt, 'source_vm') and evt.source_vm==vm.name]\n",
    "for evt in vm_related_events:\n",
    "    print(evt.source_vm, evt.event_type, evt.event_source)\n",
    "\n"
   ]
  },
  {
   "cell_type": "code",
   "execution_count": null,
   "metadata": {
    "collapsed": true,
    "deletable": true,
    "editable": true
   },
   "outputs": [],
   "source": [
    "#to be continued\n",
    "# todo: policy events"
   ]
  }
 ],
 "metadata": {
  "celltoolbar": "Edit Metadata",
  "kernelspec": {
   "display_name": "Python 2",
   "language": "python",
   "name": "python2"
  },
  "language_info": {
   "codemirror_mode": {
    "name": "ipython",
    "version": 2
   },
   "file_extension": ".py",
   "mimetype": "text/x-python",
   "name": "python",
   "nbconvert_exporter": "python",
   "pygments_lexer": "ipython2",
   "version": "2.7.12+"
  }
 },
 "nbformat": 4,
 "nbformat_minor": 2
}
